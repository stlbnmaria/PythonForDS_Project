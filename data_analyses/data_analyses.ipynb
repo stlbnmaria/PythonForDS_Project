{
 "cells": [
  {
   "cell_type": "markdown",
   "metadata": {},
   "source": [
    "# TITLE \n",
    "etc."
   ]
  },
  {
   "cell_type": "code",
   "execution_count": 1,
   "metadata": {},
   "outputs": [],
   "source": [
    "from pathlib import Path\n",
    "import pandas as pd\n",
    "import re\n",
    "\n",
    "from jours_feries_france import JoursFeries\n",
    "from vacances_scolaires_france import SchoolHolidayDates"
   ]
  },
  {
   "cell_type": "code",
   "execution_count": null,
   "metadata": {},
   "outputs": [],
   "source": [
    "# TODO: write docstrings for the functions, eventually comments in the code\n",
    "# TODO: check code again\n",
    "# TODO: eventually make more analyses to understand data better -> eventually a pandas profiling (be aware of the number of rows though)\n",
    "# TODO: make explanations in markdown\n",
    "# TODO: add weather data and look at it together"
   ]
  },
  {
   "cell_type": "code",
   "execution_count": 2,
   "metadata": {},
   "outputs": [],
   "source": [
    "data = pd.read_parquet(Path(\"../data\") / \"train.parquet\")"
   ]
  },
  {
   "cell_type": "code",
   "execution_count": 3,
   "metadata": {},
   "outputs": [
    {
     "name": "stdout",
     "output_type": "stream",
     "text": [
      "<class 'pandas.core.frame.DataFrame'>\n",
      "Int64Index: 455163 entries, 48321 to 928462\n",
      "Data columns (total 11 columns):\n",
      " #   Column                     Non-Null Count   Dtype         \n",
      "---  ------                     --------------   -----         \n",
      " 0   counter_id                 455163 non-null  category      \n",
      " 1   counter_name               455163 non-null  category      \n",
      " 2   site_id                    455163 non-null  int64         \n",
      " 3   site_name                  455163 non-null  category      \n",
      " 4   bike_count                 455163 non-null  float64       \n",
      " 5   date                       455163 non-null  datetime64[ns]\n",
      " 6   counter_installation_date  455163 non-null  datetime64[ns]\n",
      " 7   counter_technical_id       455163 non-null  category      \n",
      " 8   latitude                   455163 non-null  float64       \n",
      " 9   longitude                  455163 non-null  float64       \n",
      " 10  log_bike_count             455163 non-null  float64       \n",
      "dtypes: category(4), datetime64[ns](2), float64(4), int64(1)\n",
      "memory usage: 29.5 MB\n"
     ]
    }
   ],
   "source": [
    "data.info()"
   ]
  },
  {
   "cell_type": "markdown",
   "metadata": {},
   "source": [
    "Check the dates in the data set, so that weather data can be merged later correctly."
   ]
  },
  {
   "cell_type": "code",
   "execution_count": 4,
   "metadata": {},
   "outputs": [
    {
     "data": {
      "text/plain": [
       "2020-09-01 03:00:00    1\n",
       "2021-06-30 06:00:00    1\n",
       "2021-03-07 05:00:00    1\n",
       "2021-03-19 23:00:00    1\n",
       "2021-06-29 07:00:00    1\n",
       "                      ..\n",
       "2020-11-02 09:00:00    1\n",
       "2020-11-24 07:00:00    1\n",
       "2021-03-05 17:00:00    1\n",
       "2020-11-02 07:00:00    1\n",
       "2021-08-09 23:00:00    1\n",
       "Name: date, Length: 8230, dtype: int64"
      ]
     },
     "execution_count": 4,
     "metadata": {},
     "output_type": "execute_result"
    }
   ],
   "source": [
    "mask = data[\"counter_name\"] == \"Totem 73 boulevard de Sébastopol S-N\"\n",
    "data[mask].date.value_counts()"
   ]
  },
  {
   "cell_type": "code",
   "execution_count": 5,
   "metadata": {},
   "outputs": [
    {
     "name": "stdout",
     "output_type": "stream",
     "text": [
      "2020-09-01 01:00:00\n",
      "2021-08-09 23:00:00\n"
     ]
    }
   ],
   "source": [
    "print(data.date.min())\n",
    "print(data.date.max())"
   ]
  },
  {
   "cell_type": "code",
   "execution_count": 6,
   "metadata": {},
   "outputs": [],
   "source": [
    "def _encode_dates(X):\n",
    "    X = X.copy()  # modify a copy of X\n",
    "    # Encode the date information from the DateOfDeparture columns\n",
    "    X.loc[:, \"year\"] = X[\"date\"].dt.year\n",
    "    X.loc[:, \"month\"] = X[\"date\"].dt.month\n",
    "    X.loc[:, \"day\"] = X[\"date\"].dt.day\n",
    "    X.loc[:, \"weekday\"] = X[\"date\"].dt.weekday\n",
    "    X.loc[:, \"hour\"] = X[\"date\"].dt.hour\n",
    "\n",
    "    # Finally we can drop the original columns from the dataframe\n",
    "    return X.drop(columns=[\"date\"])"
   ]
  },
  {
   "cell_type": "code",
   "execution_count": 7,
   "metadata": {},
   "outputs": [
    {
     "data": {
      "text/plain": [
       "array([2020, 2021])"
      ]
     },
     "execution_count": 7,
     "metadata": {},
     "output_type": "execute_result"
    }
   ],
   "source": [
    "encoded_dates = _encode_dates(data[[\"date\"]])\n",
    "encoded_dates.year.unique()"
   ]
  },
  {
   "cell_type": "code",
   "execution_count": 8,
   "metadata": {},
   "outputs": [],
   "source": [
    "def _additional_date_variables(X):\n",
    "    X = X.copy()  # modify a copy of X\n",
    "\n",
    "    # add seasons\n",
    "    seasons = {\n",
    "        1: \"winter\",\n",
    "        2: \"winter\",\n",
    "        3: \"spring\",\n",
    "        4: \"spring\",\n",
    "        5: \"spring\",\n",
    "        6: \"summer\",\n",
    "        7: \"summer\",\n",
    "        8: \"summer\",\n",
    "        9: \"autumn\",\n",
    "        10: \"autumn\",\n",
    "        11: \"autumn\",\n",
    "        12: \"winter\",\n",
    "    }\n",
    "    X.loc[:, \"season\"] = X[\"date\"].dt.month.map(seasons)\n",
    "\n",
    "    public_holidays = []\n",
    "    school_holidays = {}\n",
    "    for year in X[\"date\"].dt.year.unique():\n",
    "        public_holidays.extend(JoursFeries.for_year(year).values())\n",
    "        school_holidays.update(\n",
    "            SchoolHolidayDates().holidays_for_year_and_zone(year, \"C\")\n",
    "        )\n",
    "\n",
    "    # add public holidays\n",
    "    X.loc[:, \"public_holiday\"] = X[\"date\"].isin(public_holidays)\n",
    "\n",
    "    # add school holidays names\n",
    "    school_holidays_name = {\n",
    "        k: re.sub(\"\\s+|'\", \"_\", re.sub(\"[éë]\", \"e\", v[\"nom_vacances\"].lower()))\n",
    "        for k, v in school_holidays.items()\n",
    "        if v[\"vacances_zone_c\"]\n",
    "    }\n",
    "    X.loc[:, \"school_holiday_name\"] = X[\"date\"].map(school_holidays_name)\n",
    "\n",
    "    # add school holidays\n",
    "    school_holidays_bool = [\n",
    "        k for k, v in school_holidays.items() if v[\"vacances_zone_c\"]\n",
    "    ]\n",
    "    X.loc[:, \"school_holiday\"] = X[\"date\"].isin(school_holidays_bool)\n",
    "\n",
    "    # Finally we can drop the original columns from the dataframe\n",
    "    return X.drop(columns=[\"date\"])"
   ]
  },
  {
   "cell_type": "code",
   "execution_count": 9,
   "metadata": {},
   "outputs": [
    {
     "data": {
      "text/html": [
       "<div>\n",
       "<style scoped>\n",
       "    .dataframe tbody tr th:only-of-type {\n",
       "        vertical-align: middle;\n",
       "    }\n",
       "\n",
       "    .dataframe tbody tr th {\n",
       "        vertical-align: top;\n",
       "    }\n",
       "\n",
       "    .dataframe thead th {\n",
       "        text-align: right;\n",
       "    }\n",
       "</style>\n",
       "<table border=\"1\" class=\"dataframe\">\n",
       "  <thead>\n",
       "    <tr style=\"text-align: right;\">\n",
       "      <th></th>\n",
       "      <th>season</th>\n",
       "      <th>public_holiday</th>\n",
       "      <th>school_holiday_name</th>\n",
       "      <th>school_holiday</th>\n",
       "    </tr>\n",
       "  </thead>\n",
       "  <tbody>\n",
       "    <tr>\n",
       "      <th>48321</th>\n",
       "      <td>autumn</td>\n",
       "      <td>False</td>\n",
       "      <td>NaN</td>\n",
       "      <td>False</td>\n",
       "    </tr>\n",
       "    <tr>\n",
       "      <th>48324</th>\n",
       "      <td>autumn</td>\n",
       "      <td>False</td>\n",
       "      <td>NaN</td>\n",
       "      <td>False</td>\n",
       "    </tr>\n",
       "    <tr>\n",
       "      <th>48327</th>\n",
       "      <td>autumn</td>\n",
       "      <td>False</td>\n",
       "      <td>NaN</td>\n",
       "      <td>False</td>\n",
       "    </tr>\n",
       "    <tr>\n",
       "      <th>48330</th>\n",
       "      <td>autumn</td>\n",
       "      <td>False</td>\n",
       "      <td>NaN</td>\n",
       "      <td>False</td>\n",
       "    </tr>\n",
       "    <tr>\n",
       "      <th>48333</th>\n",
       "      <td>autumn</td>\n",
       "      <td>False</td>\n",
       "      <td>NaN</td>\n",
       "      <td>False</td>\n",
       "    </tr>\n",
       "  </tbody>\n",
       "</table>\n",
       "</div>"
      ],
      "text/plain": [
       "       season  public_holiday school_holiday_name  school_holiday\n",
       "48321  autumn           False                 NaN           False\n",
       "48324  autumn           False                 NaN           False\n",
       "48327  autumn           False                 NaN           False\n",
       "48330  autumn           False                 NaN           False\n",
       "48333  autumn           False                 NaN           False"
      ]
     },
     "execution_count": 9,
     "metadata": {},
     "output_type": "execute_result"
    }
   ],
   "source": [
    "additional_dates = _additional_date_variables(data[[\"date\"]])\n",
    "additional_dates.head()"
   ]
  },
  {
   "cell_type": "code",
   "execution_count": 10,
   "metadata": {},
   "outputs": [],
   "source": [
    "full_data = pd.concat([data, encoded_dates, additional_dates], axis=1)"
   ]
  },
  {
   "cell_type": "code",
   "execution_count": 11,
   "metadata": {},
   "outputs": [
    {
     "name": "stdout",
     "output_type": "stream",
     "text": [
      "<class 'pandas.core.frame.DataFrame'>\n",
      "Int64Index: 455163 entries, 48321 to 928462\n",
      "Data columns (total 20 columns):\n",
      " #   Column                     Non-Null Count   Dtype         \n",
      "---  ------                     --------------   -----         \n",
      " 0   counter_id                 455163 non-null  category      \n",
      " 1   counter_name               455163 non-null  category      \n",
      " 2   site_id                    455163 non-null  int64         \n",
      " 3   site_name                  455163 non-null  category      \n",
      " 4   bike_count                 455163 non-null  float64       \n",
      " 5   date                       455163 non-null  datetime64[ns]\n",
      " 6   counter_installation_date  455163 non-null  datetime64[ns]\n",
      " 7   counter_technical_id       455163 non-null  category      \n",
      " 8   latitude                   455163 non-null  float64       \n",
      " 9   longitude                  455163 non-null  float64       \n",
      " 10  log_bike_count             455163 non-null  float64       \n",
      " 11  year                       455163 non-null  int64         \n",
      " 12  month                      455163 non-null  int64         \n",
      " 13  day                        455163 non-null  int64         \n",
      " 14  weekday                    455163 non-null  int64         \n",
      " 15  hour                       455163 non-null  int64         \n",
      " 16  season                     455163 non-null  object        \n",
      " 17  public_holiday             455163 non-null  bool          \n",
      " 18  school_holiday_name        5738 non-null    object        \n",
      " 19  school_holiday             455163 non-null  bool          \n",
      "dtypes: bool(2), category(4), datetime64[ns](2), float64(4), int64(6), object(2)\n",
      "memory usage: 54.7+ MB\n"
     ]
    }
   ],
   "source": [
    "full_data.info()"
   ]
  },
  {
   "cell_type": "code",
   "execution_count": null,
   "metadata": {},
   "outputs": [],
   "source": []
  }
 ],
 "metadata": {
  "kernelspec": {
   "display_name": "Python 3 (ipykernel)",
   "language": "python",
   "name": "python3"
  },
  "language_info": {
   "codemirror_mode": {
    "name": "ipython",
    "version": 3
   },
   "file_extension": ".py",
   "mimetype": "text/x-python",
   "name": "python",
   "nbconvert_exporter": "python",
   "pygments_lexer": "ipython3",
   "version": "3.9.13"
  },
  "vscode": {
   "interpreter": {
    "hash": "8ded6d0902af23b71a8fdfa27a89cbe386074b43af059908819c97cf07195d34"
   }
  }
 },
 "nbformat": 4,
 "nbformat_minor": 2
}
