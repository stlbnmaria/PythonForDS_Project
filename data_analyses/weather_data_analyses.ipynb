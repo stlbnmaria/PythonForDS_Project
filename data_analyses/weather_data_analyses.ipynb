{
 "cells": [
  {
   "cell_type": "code",
   "execution_count": 21,
   "id": "9557bc0e",
   "metadata": {},
   "outputs": [],
   "source": [
    "import pandas as pd\n",
    "from sklearn.experimental import enable_iterative_imputer\n",
    "from sklearn.impute import IterativeImputer"
   ]
  },
  {
   "cell_type": "code",
   "execution_count": 6,
   "id": "04e9bc7a",
   "metadata": {},
   "outputs": [],
   "source": [
    "# TODO: add docstrings for this function\n",
    "def weather_data_prep() -> pd.DataFrame:\n",
    "    \"\"\"\n",
    "    \"\"\"\n",
    "    # load weather data of Paris from data folder\n",
    "    weather_data = pd.read_csv(\"../data/07156.csv\")\n",
    "    weather_data.columns = [\n",
    "        \"date\",\n",
    "        \"hour\",\n",
    "        \"temp\",\n",
    "        \"dwpt\",\n",
    "        \"rhum\",\n",
    "        \"prcp\",\n",
    "        \"snow\",\n",
    "        \"wdir\",\n",
    "        \"wspd\",\n",
    "        \"wpgt\",\n",
    "        \"pres\",\n",
    "        \"tsun\",\n",
    "        \"coco\",\n",
    "    ]\n",
    "\n",
    "    # select the column range according the train and test parquet\n",
    "    # we extended the series a bit longer to the end of the year 2021\n",
    "    weather_data = weather_data[\n",
    "        (weather_data.date >= \"2020-09-01\") & (weather_data.date <= \"2021-12-31\")\n",
    "    ]\n",
    "\n",
    "    # remove columns that are only na's\n",
    "    weather_data.dropna(axis=1, how=\"all\", inplace=True)\n",
    "\n",
    "    # concat date and hour together to get a variable to merge bike_counters data\n",
    "    weather_data[\"date\"] = pd.to_datetime(weather_data.date) + pd.to_timedelta(\n",
    "        weather_data.hour, unit=\"h\"\n",
    "    )\n",
    "    \n",
    "    return weather_data.drop(columns=\"hour\")"
   ]
  },
  {
   "cell_type": "code",
   "execution_count": 7,
   "id": "0d47a004",
   "metadata": {},
   "outputs": [],
   "source": [
    "weather_data = weather_data_prep()"
   ]
  },
  {
   "cell_type": "code",
   "execution_count": 8,
   "id": "0ddc1c78",
   "metadata": {},
   "outputs": [
    {
     "name": "stdout",
     "output_type": "stream",
     "text": [
      "<class 'pandas.core.frame.DataFrame'>\n",
      "Int64Index: 11604 entries, 180135 to 191738\n",
      "Data columns (total 8 columns):\n",
      " #   Column  Non-Null Count  Dtype         \n",
      "---  ------  --------------  -----         \n",
      " 0   date    11604 non-null  datetime64[ns]\n",
      " 1   temp    11604 non-null  float64       \n",
      " 2   dwpt    11604 non-null  float64       \n",
      " 3   rhum    11604 non-null  float64       \n",
      " 4   prcp    10505 non-null  float64       \n",
      " 5   wdir    11604 non-null  float64       \n",
      " 6   wspd    11604 non-null  float64       \n",
      " 7   pres    11604 non-null  float64       \n",
      "dtypes: datetime64[ns](1), float64(7)\n",
      "memory usage: 815.9 KB\n"
     ]
    }
   ],
   "source": [
    "weather_data.info()"
   ]
  },
  {
   "cell_type": "code",
   "execution_count": 22,
   "id": "1121319d",
   "metadata": {},
   "outputs": [
    {
     "data": {
      "text/plain": [
       "date    0.000000\n",
       "temp    0.000000\n",
       "dwpt    0.000000\n",
       "rhum    0.000000\n",
       "prcp    0.094709\n",
       "wdir    0.000000\n",
       "wspd    0.000000\n",
       "pres    0.000000\n",
       "dtype: float64"
      ]
     },
     "execution_count": 22,
     "metadata": {},
     "output_type": "execute_result"
    }
   ],
   "source": [
    "weather_data.isna().mean()"
   ]
  },
  {
   "cell_type": "code",
   "execution_count": null,
   "id": "bdad82ff",
   "metadata": {},
   "outputs": [],
   "source": [
    "# TODO: plot a histogram before the imputation"
   ]
  },
  {
   "cell_type": "markdown",
   "id": "b0254811",
   "metadata": {},
   "source": [
    "As we can see above, we did some initial changes to our dataset, namely changing the column names, selecting the date range we are interested in, dropping the columns where all values where *NaN*, and concatenating the date and hour columns in order to have the date in the same formate as the *bike_count*.\n",
    "After this initial step in preparing our data, we can see that we still have some missing values in the precipitation column (around 10%). In order to tackle this problem, we are going to do multivariate feature amputation in order to predict the missing values. "
   ]
  },
  {
   "cell_type": "code",
   "execution_count": 10,
   "id": "8bba81aa",
   "metadata": {},
   "outputs": [],
   "source": [
    "# impute percipitation based on all other weather data except the date\n",
    "imp = IterativeImputer(random_state=0)\n",
    "transformed_data = imp.fit_transform(weather_data.drop(columns=[\"date\"]))\n",
    "\n",
    "weather_data_imp = weather_data.copy()\n",
    "weather_data_imp.iloc[:, 1:] = transformed_data"
   ]
  },
  {
   "cell_type": "code",
   "execution_count": 16,
   "id": "faaa4ec1",
   "metadata": {},
   "outputs": [
    {
     "name": "stdout",
     "output_type": "stream",
     "text": [
      "<class 'pandas.core.frame.DataFrame'>\n",
      "Int64Index: 11604 entries, 180135 to 191738\n",
      "Data columns (total 8 columns):\n",
      " #   Column  Non-Null Count  Dtype         \n",
      "---  ------  --------------  -----         \n",
      " 0   date    11604 non-null  datetime64[ns]\n",
      " 1   temp    11604 non-null  float64       \n",
      " 2   dwpt    11604 non-null  float64       \n",
      " 3   rhum    11604 non-null  float64       \n",
      " 4   prcp    11604 non-null  float64       \n",
      " 5   wdir    11604 non-null  float64       \n",
      " 6   wspd    11604 non-null  float64       \n",
      " 7   pres    11604 non-null  float64       \n",
      "dtypes: datetime64[ns](1), float64(7)\n",
      "memory usage: 815.9 KB\n"
     ]
    }
   ],
   "source": [
    "weather_data_imp.info()"
   ]
  },
  {
   "cell_type": "code",
   "execution_count": null,
   "id": "3b689a3c",
   "metadata": {},
   "outputs": [],
   "source": [
    "# TODO: plot a histogram after imputation"
   ]
  },
  {
   "cell_type": "code",
   "execution_count": null,
   "id": "97e32aac",
   "metadata": {},
   "outputs": [],
   "source": [
    "# TODO: safe data to data folder before imputation with name \"weather_data_clean.csv\"\n",
    "# TODO: safe data to data folder before imputation with name \"weather_data_imputed.csv\""
   ]
  }
 ],
 "metadata": {
  "kernelspec": {
   "display_name": "Python 3.10.7 64-bit",
   "language": "python",
   "name": "python3"
  },
  "language_info": {
   "codemirror_mode": {
    "name": "ipython",
    "version": 3
   },
   "file_extension": ".py",
   "mimetype": "text/x-python",
   "name": "python",
   "nbconvert_exporter": "python",
   "pygments_lexer": "ipython3",
   "version": "3.10.7"
  },
  "vscode": {
   "interpreter": {
    "hash": "aee8b7b246df8f9039afb4144a1f6fd8d2ca17a180786b69acc140d282b71a49"
   }
  }
 },
 "nbformat": 4,
 "nbformat_minor": 5
}
